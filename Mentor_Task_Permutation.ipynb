{
  "nbformat": 4,
  "nbformat_minor": 0,
  "metadata": {
    "colab": {
      "provenance": [],
      "authorship_tag": "ABX9TyNm7/2QaqKACOzZqGmRKSCl",
      "include_colab_link": true
    },
    "kernelspec": {
      "name": "python3",
      "display_name": "Python 3"
    },
    "language_info": {
      "name": "python"
    }
  },
  "cells": [
    {
      "cell_type": "markdown",
      "metadata": {
        "id": "view-in-github",
        "colab_type": "text"
      },
      "source": [
        "<a href=\"https://colab.research.google.com/github/shreehere/MentorTask-Iterations/blob/main/Mentor_Task_Permutation.ipynb\" target=\"_parent\"><img src=\"https://colab.research.google.com/assets/colab-badge.svg\" alt=\"Open In Colab\"/></a>"
      ]
    },
    {
      "cell_type": "code",
      "execution_count": 1,
      "metadata": {
        "colab": {
          "base_uri": "https://localhost:8080/"
        },
        "id": "9e41EFlBB5a0",
        "outputId": "477fa33a-c182-408e-d5c3-2c91908dbbda"
      },
      "outputs": [
        {
          "output_type": "stream",
          "name": "stdout",
          "text": [
            "2883\n"
          ]
        }
      ],
      "source": [
        "import itertools as it \n",
        "\n",
        "x=[0,1,2,3,4,5,6,7,8,9]\n",
        "c=it.permutations(x,4)\n",
        "count=0\n",
        "for i in list(c):\n",
        "  count=count+1\n",
        "  if i==(5,7,3,8):\n",
        "    print(count)"
      ]
    }
  ]
}